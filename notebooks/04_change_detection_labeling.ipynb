{
 "cells": [
  {
   "cell_type": "code",
   "execution_count": 3,
   "id": "4a9045dd-5fbb-4f92-bf27-1fe56e752f4c",
   "metadata": {},
   "outputs": [
    {
     "name": "stdout",
     "output_type": "stream",
     "text": [
      "🔧 Generating automated labels...\n",
      "✅ Change detection: 0 change patches\n"
     ]
    },
    {
     "ename": "NameError",
     "evalue": "name 'os' is not defined",
     "output_type": "error",
     "traceback": [
      "\u001b[31m---------------------------------------------------------------------------\u001b[39m",
      "\u001b[31mNameError\u001b[39m                                 Traceback (most recent call last)",
      "\u001b[36mCell\u001b[39m\u001b[36m \u001b[39m\u001b[32mIn[3]\u001b[39m\u001b[32m, line 19\u001b[39m\n\u001b[32m     16\u001b[39m \u001b[38;5;28mprint\u001b[39m(\u001b[33mf\u001b[39m\u001b[33m\"\u001b[39m\u001b[33m✅ Change detection: \u001b[39m\u001b[38;5;132;01m{\u001b[39;00m\u001b[38;5;28msum\u001b[39m(change_labels.values())\u001b[38;5;132;01m}\u001b[39;00m\u001b[33m change patches\u001b[39m\u001b[33m\"\u001b[39m)\n\u001b[32m     18\u001b[39m \u001b[38;5;66;03m# Method 2: Anomaly detection  \u001b[39;00m\n\u001b[32m---> \u001b[39m\u001b[32m19\u001b[39m anomaly_labels = \u001b[43mdetect_spectral_anomalies\u001b[49m\u001b[43m(\u001b[49m\u001b[43mpatches_dir\u001b[49m\u001b[43m)\u001b[49m\n\u001b[32m     20\u001b[39m \u001b[38;5;28mprint\u001b[39m(\u001b[33mf\u001b[39m\u001b[33m\"\u001b[39m\u001b[33m✅ Anomaly detection: \u001b[39m\u001b[38;5;132;01m{\u001b[39;00m\u001b[38;5;28msum\u001b[39m(anomaly_labels.values())\u001b[38;5;132;01m}\u001b[39;00m\u001b[33m anomalous patches\u001b[39m\u001b[33m\"\u001b[39m)\n\u001b[32m     22\u001b[39m \u001b[38;5;66;03m# Method 3: Rule-based\u001b[39;00m\n",
      "\u001b[36mFile \u001b[39m\u001b[32m~/Workspaces/COE/ISMD/notebooks/../src/utils/anomaly_detection.py:11\u001b[39m, in \u001b[36mdetect_spectral_anomalies\u001b[39m\u001b[34m(patches_dir)\u001b[39m\n\u001b[32m      8\u001b[39m patch_files = []\n\u001b[32m     10\u001b[39m \u001b[38;5;66;03m# Load all patches\u001b[39;00m\n\u001b[32m---> \u001b[39m\u001b[32m11\u001b[39m \u001b[38;5;28;01mfor\u001b[39;00m patch_file \u001b[38;5;129;01min\u001b[39;00m \u001b[43mos\u001b[49m.listdir(patches_dir):\n\u001b[32m     12\u001b[39m     \u001b[38;5;28;01mif\u001b[39;00m patch_file.endswith(\u001b[33m'\u001b[39m\u001b[33m.npy\u001b[39m\u001b[33m'\u001b[39m):\n\u001b[32m     13\u001b[39m         patch_data = np.load(os.path.join(patches_dir, patch_file))\n",
      "\u001b[31mNameError\u001b[39m: name 'os' is not defined"
     ]
    }
   ],
   "source": [
    "# Automated labeling pipeline\n",
    "import sys\n",
    "sys.path.append('../src')\n",
    "\n",
    "from utils.change_detection import generate_change_labels\n",
    "from utils.anomaly_detection import detect_spectral_anomalies\n",
    "from utils.rule_based_labeling import rule_based_labels\n",
    "\n",
    "# Generate labels using multiple methods\n",
    "patches_dir = \"../data/processed/patches\"\n",
    "\n",
    "print(\"🔧 Generating automated labels...\")\n",
    "\n",
    "# Method 1: Change detection\n",
    "change_labels = generate_change_labels(patches_dir, \"../data/annotations\")\n",
    "print(f\"✅ Change detection: {sum(change_labels.values())} change patches\")\n",
    "\n",
    "# Method 2: Anomaly detection  \n",
    "anomaly_labels = detect_spectral_anomalies(patches_dir)\n",
    "print(f\"✅ Anomaly detection: {sum(anomaly_labels.values())} anomalous patches\")\n",
    "\n",
    "# Method 3: Rule-based\n",
    "rule_labels = rule_based_labels(patches_dir)\n",
    "print(f\"✅ Rule-based: {sum(rule_labels.values())} mining patches\")\n",
    "\n",
    "# Ensemble voting\n",
    "final_labels = {}\n",
    "for patch in change_labels.keys():\n",
    "    votes = [change_labels.get(patch, 0), \n",
    "             anomaly_labels.get(patch, 0), \n",
    "             rule_labels.get(patch, 0)]\n",
    "    final_labels[patch] = 1 if sum(votes) >= 2 else 0  # Majority voting\n",
    "\n",
    "print(f\"🎯 Final labels: {sum(final_labels.values())} mining patches out of {len(final_labels)} total\")\n",
    "\n",
    "# Save labels\n",
    "import json\n",
    "with open(\"../data/annotations/automated_labels.json\", \"w\") as f:\n",
    "    json.dump(final_labels, f, indent=2)\n",
    "\n",
    "print(\"💾 Automated labels saved!\")"
   ]
  },
  {
   "cell_type": "code",
   "execution_count": 4,
   "id": "37ce0556-fef4-40f6-8679-fe7ae85804a4",
   "metadata": {},
   "outputs": [
    {
     "name": "stdout",
     "output_type": "stream",
     "text": [
      "🔧 Generating simple automated labels...\n",
      "Found 16 patches\n",
      "🎯 Labeling complete: 0/16 patches labeled as mining (0.0%)\n",
      "💾 Labels saved to ../data/annotations/automated_labels.json\n",
      "\n",
      "🔍 Sample labeled patches:\n",
      "  S2_Yamuna_2023_01_patch_0_512.npy → NO MINING\n",
      "  S2_Yamuna_2023_01_patch_768_0.npy → NO MINING\n",
      "  S2_Yamuna_2023_01_patch_0_0.npy → NO MINING\n",
      "  S2_Yamuna_2023_01_patch_768_256.npy → NO MINING\n",
      "  S2_Yamuna_2023_01_patch_256_512.npy → NO MINING\n"
     ]
    }
   ],
   "source": [
    "import numpy as np\n",
    "import os\n",
    "import json\n",
    "from pathlib import Path\n",
    "\n",
    "# Setup paths\n",
    "PATCHES_DIR = \"../data/processed/patches\"\n",
    "os.makedirs(\"../data/annotations\", exist_ok=True)\n",
    "\n",
    "def simple_change_detection(patches_dir):\n",
    "    \"\"\"Simple change detection based on NDWI variance\"\"\"\n",
    "    labels = {}\n",
    "    \n",
    "    patch_files = [f for f in os.listdir(patches_dir) if f.endswith('.npy')]\n",
    "    print(f\"Found {len(patch_files)} patches\")\n",
    "    \n",
    "    for patch_file in patch_files:\n",
    "        try:\n",
    "            patch_data = np.load(os.path.join(patches_dir, patch_file))\n",
    "            \n",
    "            # Simple rule: High NDWI variance = potential mining activity\n",
    "            ndwi_band = patch_data[4]  # NDWI is band 4\n",
    "            ndwi_variance = np.var(ndwi_band)\n",
    "            \n",
    "            # Label as mining if high variance (suggesting changes)\n",
    "            labels[patch_file] = 1 if ndwi_variance > 0.01 else 0\n",
    "            \n",
    "        except Exception as e:\n",
    "            print(f\"Error processing {patch_file}: {e}\")\n",
    "            labels[patch_file] = 0\n",
    "    \n",
    "    return labels\n",
    "\n",
    "print(\"🔧 Generating simple automated labels...\")\n",
    "labels = simple_change_detection(PATCHES_DIR)\n",
    "\n",
    "mining_count = sum(labels.values())\n",
    "total_count = len(labels)\n",
    "print(f\"🎯 Labeling complete: {mining_count}/{total_count} patches labeled as mining ({mining_count/total_count*100:.1f}%)\")\n",
    "\n",
    "# Save labels\n",
    "with open(\"../data/annotations/automated_labels.json\", \"w\") as f:\n",
    "    json.dump(labels, f, indent=2)\n",
    "\n",
    "print(\"💾 Labels saved to ../data/annotations/automated_labels.json\")\n",
    "\n",
    "# Quick validation - show some examples\n",
    "print(\"\\n🔍 Sample labeled patches:\")\n",
    "for i, (patch_file, label) in enumerate(list(labels.items())[:5]):\n",
    "    print(f\"  {patch_file} → {'MINING' if label == 1 else 'NO MINING'}\")"
   ]
  },
  {
   "cell_type": "code",
   "execution_count": null,
   "id": "953964c8-12ce-4548-82a4-3a2c0cdf3875",
   "metadata": {},
   "outputs": [],
   "source": []
  }
 ],
 "metadata": {
  "kernelspec": {
   "display_name": "Python 3 (ipykernel)",
   "language": "python",
   "name": "python3"
  },
  "language_info": {
   "codemirror_mode": {
    "name": "ipython",
    "version": 3
   },
   "file_extension": ".py",
   "mimetype": "text/x-python",
   "name": "python",
   "nbconvert_exporter": "python",
   "pygments_lexer": "ipython3",
   "version": "3.12.3"
  }
 },
 "nbformat": 4,
 "nbformat_minor": 5
}
